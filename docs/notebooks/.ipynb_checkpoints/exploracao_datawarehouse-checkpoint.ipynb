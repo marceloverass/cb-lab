{
 "cells": [
  {
   "cell_type": "markdown",
   "id": "c0a81ce6-d408-46de-9655-64f7b7bfb822",
   "metadata": {},
   "source": [
    "# Análise e Exploração de Dados - Camada Gold\n",
    "\n",
    "**Autor:** Marcelo Veras <br>\n",
    "**Data:** 30 de Julho de 2025\n",
    "\n",
    "## 1. Introdução\n",
    "\n",
    "Este notebook fornece uma interface interativa para consultar e visualizar os dados no Data Warehouse (camada Gold), que foi populado pelo pipeline de ETL.\n",
    "\n",
    "O objetivo é permitir a validação dos dados e a exploração direta do modelo relacional, sem a necessidade de um cliente de banco de dados externo. O código abaixo se conecta diretamente ao banco de dados SQL Server que está rodando no ambiente Docker e utiliza a biblioteca `pandas` para executar consultas SQL e exibir os resultados."
   ]
  },
  {
   "cell_type": "code",
   "execution_count": 34,
   "id": "23310fb9-db43-4d0f-97dd-e037fa6c4631",
   "metadata": {},
   "outputs": [
    {
     "name": "stdout",
     "output_type": "stream",
     "text": [
      "✅ Conexão com o Data Warehouse (SQLAlchemy) bem-sucedida!\n"
     ]
    }
   ],
   "source": [
    "import pandas as pd\n",
    "from sqlalchemy import create_engine\n",
    "import urllib\n",
    "import warnings\n",
    "\n",
    "warnings.filterwarnings('ignore')\n",
    "\n",
    "# Parâmetros da conexão\n",
    "server = 'desafio_db'\n",
    "database = 'DesafioDB'\n",
    "username = 'sa'\n",
    "password = 'CocoBambuCBLAB123@@' # IMPORTANTE: Substitua pela sua senha correta\n",
    "\n",
    "# Prepara a string de conexão de forma segura\n",
    "params = urllib.parse.quote_plus(\n",
    "    f\"DRIVER={{ODBC Driver 18 for SQL Server}};\"\n",
    "    f\"SERVER={server};\"\n",
    "    f\"DATABASE={database};\"\n",
    "    f\"UID={username};\"\n",
    "    f\"PWD={password};\"\n",
    "    f\"TrustServerCertificate=yes;\"\n",
    ")\n",
    "\n",
    "# Cria o \"motor\" de conexão do SQLAlchemy\n",
    "engine = create_engine(f\"mssql+pyodbc:///?odbc_connect={params}\")\n",
    "\n",
    "# --- CORREÇÃO AQUI: Força uma conexão para testar as credenciais ---\n",
    "try:\n",
    "    # Tenta estabelecer uma conexão real\n",
    "    connection = engine.connect()\n",
    "    print(\"✅ Conexão com o Data Warehouse (SQLAlchemy) bem-sucedida!\")\n",
    "    # Fecha a conexão de teste imediatamente para liberar recursos\n",
    "    connection.close()\n",
    "except Exception as e:\n",
    "    print(f\"❌ Falha na conexão: {e}\")"
   ]
  },
  {
   "cell_type": "markdown",
   "id": "0cfd2fec-05f2-4729-86b4-66578bd10e28",
   "metadata": {},
   "source": [
    "## 2. Consultas de Exemplo\n",
    "\n",
    "Abaixo estão algumas consultas SQL de exemplo para explorar os dados carregados. Você pode executar cada célula de código para ver o resultado."
   ]
  },
  {
   "cell_type": "code",
   "execution_count": 35,
   "id": "ec8a4bf3-260b-4ef7-9c2a-e60d81a3ca34",
   "metadata": {},
   "outputs": [
    {
     "name": "stdout",
     "output_type": "stream",
     "text": [
      "--- Tabela: Pedidos (5 primeiros registros) ---\n"
     ]
    },
    {
     "ename": "ProgrammingError",
     "evalue": "('ODBC SQL type -155 is not yet supported.  column-index=5  type=-155', 'HY106')",
     "output_type": "error",
     "traceback": [
      "\u001b[0;31m---------------------------------------------------------------------------\u001b[0m",
      "\u001b[0;31mProgrammingError\u001b[0m                          Traceback (most recent call last)",
      "Cell \u001b[0;32mIn[35], line 5\u001b[0m\n\u001b[1;32m      2\u001b[0m \u001b[38;5;28mprint\u001b[39m(\u001b[38;5;124m\"\u001b[39m\u001b[38;5;124m--- Tabela: Pedidos (5 primeiros registros) ---\u001b[39m\u001b[38;5;124m\"\u001b[39m)\n\u001b[1;32m      4\u001b[0m sql_query_pedidos \u001b[38;5;241m=\u001b[39m \u001b[38;5;124m\"\u001b[39m\u001b[38;5;124mSELECT TOP 5 * FROM Pedidos;\u001b[39m\u001b[38;5;124m\"\u001b[39m\n\u001b[0;32m----> 5\u001b[0m df_pedidos \u001b[38;5;241m=\u001b[39m \u001b[43mpd\u001b[49m\u001b[38;5;241;43m.\u001b[39;49m\u001b[43mread_sql\u001b[49m\u001b[43m(\u001b[49m\u001b[43msql_query_pedidos\u001b[49m\u001b[43m,\u001b[49m\u001b[43m \u001b[49m\u001b[43mcnxn\u001b[49m\u001b[43m)\u001b[49m\n\u001b[1;32m      6\u001b[0m display(df_pedidos)\n",
      "File \u001b[0;32m/usr/local/lib/python3.10/site-packages/pandas/io/sql.py:708\u001b[0m, in \u001b[0;36mread_sql\u001b[0;34m(sql, con, index_col, coerce_float, params, parse_dates, columns, chunksize, dtype_backend, dtype)\u001b[0m\n\u001b[1;32m    706\u001b[0m \u001b[38;5;28;01mwith\u001b[39;00m pandasSQL_builder(con) \u001b[38;5;28;01mas\u001b[39;00m pandas_sql:\n\u001b[1;32m    707\u001b[0m     \u001b[38;5;28;01mif\u001b[39;00m \u001b[38;5;28misinstance\u001b[39m(pandas_sql, SQLiteDatabase):\n\u001b[0;32m--> 708\u001b[0m         \u001b[38;5;28;01mreturn\u001b[39;00m \u001b[43mpandas_sql\u001b[49m\u001b[38;5;241;43m.\u001b[39;49m\u001b[43mread_query\u001b[49m\u001b[43m(\u001b[49m\n\u001b[1;32m    709\u001b[0m \u001b[43m            \u001b[49m\u001b[43msql\u001b[49m\u001b[43m,\u001b[49m\n\u001b[1;32m    710\u001b[0m \u001b[43m            \u001b[49m\u001b[43mindex_col\u001b[49m\u001b[38;5;241;43m=\u001b[39;49m\u001b[43mindex_col\u001b[49m\u001b[43m,\u001b[49m\n\u001b[1;32m    711\u001b[0m \u001b[43m            \u001b[49m\u001b[43mparams\u001b[49m\u001b[38;5;241;43m=\u001b[39;49m\u001b[43mparams\u001b[49m\u001b[43m,\u001b[49m\n\u001b[1;32m    712\u001b[0m \u001b[43m            \u001b[49m\u001b[43mcoerce_float\u001b[49m\u001b[38;5;241;43m=\u001b[39;49m\u001b[43mcoerce_float\u001b[49m\u001b[43m,\u001b[49m\n\u001b[1;32m    713\u001b[0m \u001b[43m            \u001b[49m\u001b[43mparse_dates\u001b[49m\u001b[38;5;241;43m=\u001b[39;49m\u001b[43mparse_dates\u001b[49m\u001b[43m,\u001b[49m\n\u001b[1;32m    714\u001b[0m \u001b[43m            \u001b[49m\u001b[43mchunksize\u001b[49m\u001b[38;5;241;43m=\u001b[39;49m\u001b[43mchunksize\u001b[49m\u001b[43m,\u001b[49m\n\u001b[1;32m    715\u001b[0m \u001b[43m            \u001b[49m\u001b[43mdtype_backend\u001b[49m\u001b[38;5;241;43m=\u001b[39;49m\u001b[43mdtype_backend\u001b[49m\u001b[43m,\u001b[49m\n\u001b[1;32m    716\u001b[0m \u001b[43m            \u001b[49m\u001b[43mdtype\u001b[49m\u001b[38;5;241;43m=\u001b[39;49m\u001b[43mdtype\u001b[49m\u001b[43m,\u001b[49m\n\u001b[1;32m    717\u001b[0m \u001b[43m        \u001b[49m\u001b[43m)\u001b[49m\n\u001b[1;32m    719\u001b[0m     \u001b[38;5;28;01mtry\u001b[39;00m:\n\u001b[1;32m    720\u001b[0m         _is_table_name \u001b[38;5;241m=\u001b[39m pandas_sql\u001b[38;5;241m.\u001b[39mhas_table(sql)\n",
      "File \u001b[0;32m/usr/local/lib/python3.10/site-packages/pandas/io/sql.py:2743\u001b[0m, in \u001b[0;36mSQLiteDatabase.read_query\u001b[0;34m(self, sql, index_col, coerce_float, parse_dates, params, chunksize, dtype, dtype_backend)\u001b[0m\n\u001b[1;32m   2732\u001b[0m     \u001b[38;5;28;01mreturn\u001b[39;00m \u001b[38;5;28mself\u001b[39m\u001b[38;5;241m.\u001b[39m_query_iterator(\n\u001b[1;32m   2733\u001b[0m         cursor,\n\u001b[1;32m   2734\u001b[0m         chunksize,\n\u001b[0;32m   (...)\u001b[0m\n\u001b[1;32m   2740\u001b[0m         dtype_backend\u001b[38;5;241m=\u001b[39mdtype_backend,\n\u001b[1;32m   2741\u001b[0m     )\n\u001b[1;32m   2742\u001b[0m \u001b[38;5;28;01melse\u001b[39;00m:\n\u001b[0;32m-> 2743\u001b[0m     data \u001b[38;5;241m=\u001b[39m \u001b[38;5;28;43mself\u001b[39;49m\u001b[38;5;241;43m.\u001b[39;49m\u001b[43m_fetchall_as_list\u001b[49m\u001b[43m(\u001b[49m\u001b[43mcursor\u001b[49m\u001b[43m)\u001b[49m\n\u001b[1;32m   2744\u001b[0m     cursor\u001b[38;5;241m.\u001b[39mclose()\n\u001b[1;32m   2746\u001b[0m     frame \u001b[38;5;241m=\u001b[39m _wrap_result(\n\u001b[1;32m   2747\u001b[0m         data,\n\u001b[1;32m   2748\u001b[0m         columns,\n\u001b[0;32m   (...)\u001b[0m\n\u001b[1;32m   2753\u001b[0m         dtype_backend\u001b[38;5;241m=\u001b[39mdtype_backend,\n\u001b[1;32m   2754\u001b[0m     )\n",
      "File \u001b[0;32m/usr/local/lib/python3.10/site-packages/pandas/io/sql.py:2758\u001b[0m, in \u001b[0;36mSQLiteDatabase._fetchall_as_list\u001b[0;34m(self, cur)\u001b[0m\n\u001b[1;32m   2757\u001b[0m \u001b[38;5;28;01mdef\u001b[39;00m\u001b[38;5;250m \u001b[39m\u001b[38;5;21m_fetchall_as_list\u001b[39m(\u001b[38;5;28mself\u001b[39m, cur):\n\u001b[0;32m-> 2758\u001b[0m     result \u001b[38;5;241m=\u001b[39m \u001b[43mcur\u001b[49m\u001b[38;5;241;43m.\u001b[39;49m\u001b[43mfetchall\u001b[49m\u001b[43m(\u001b[49m\u001b[43m)\u001b[49m\n\u001b[1;32m   2759\u001b[0m     \u001b[38;5;28;01mif\u001b[39;00m \u001b[38;5;129;01mnot\u001b[39;00m \u001b[38;5;28misinstance\u001b[39m(result, \u001b[38;5;28mlist\u001b[39m):\n\u001b[1;32m   2760\u001b[0m         result \u001b[38;5;241m=\u001b[39m \u001b[38;5;28mlist\u001b[39m(result)\n",
      "\u001b[0;31mProgrammingError\u001b[0m: ('ODBC SQL type -155 is not yet supported.  column-index=5  type=-155', 'HY106')"
     ]
    }
   ],
   "source": [
    "# Consulta 1: Visualizar os 5 primeiros pedidos na tabela principal\n",
    "print(\"--- Tabela: Pedidos (5 primeiros registros) ---\")\n",
    "\n",
    "sql_query_pedidos = \"SELECT TOP 5 * FROM Pedidos;\"\n",
    "df_pedidos = pd.read_sql(sql_query_pedidos, cnxn)\n",
    "display(df_pedidos)"
   ]
  },
  {
   "cell_type": "code",
   "execution_count": 29,
   "id": "704f9855-58c0-41df-a685-5d7aac6c6658",
   "metadata": {},
   "outputs": [
    {
     "name": "stdout",
     "output_type": "stream",
     "text": [
      "\n",
      "--- Tabela: Restaurantes ---\n"
     ]
    },
    {
     "name": "stderr",
     "output_type": "stream",
     "text": [
      "/tmp/ipykernel_224/1548913879.py:3: UserWarning: pandas only supports SQLAlchemy connectable (engine/connection) or database string URI or sqlite3 DBAPI2 connection. Other DBAPI2 objects are not tested. Please consider using SQLAlchemy.\n",
      "  display(pd.read_sql(\"SELECT * FROM Restaurantes;\", cnxn))\n"
     ]
    },
    {
     "data": {
      "text/html": [
       "<div>\n",
       "<style scoped>\n",
       "    .dataframe tbody tr th:only-of-type {\n",
       "        vertical-align: middle;\n",
       "    }\n",
       "\n",
       "    .dataframe tbody tr th {\n",
       "        vertical-align: top;\n",
       "    }\n",
       "\n",
       "    .dataframe thead th {\n",
       "        text-align: right;\n",
       "    }\n",
       "</style>\n",
       "<table border=\"1\" class=\"dataframe\">\n",
       "  <thead>\n",
       "    <tr style=\"text-align: right;\">\n",
       "      <th></th>\n",
       "      <th>restaurante_id</th>\n",
       "      <th>loc_ref</th>\n",
       "    </tr>\n",
       "  </thead>\n",
       "  <tbody>\n",
       "    <tr>\n",
       "      <th>0</th>\n",
       "      <td>1</td>\n",
       "      <td>99 CB CB</td>\n",
       "    </tr>\n",
       "    <tr>\n",
       "      <th>1</th>\n",
       "      <td>2</td>\n",
       "      <td>777 CB CB</td>\n",
       "    </tr>\n",
       "    <tr>\n",
       "      <th>2</th>\n",
       "      <td>3</td>\n",
       "      <td>555 EE XX</td>\n",
       "    </tr>\n",
       "    <tr>\n",
       "      <th>3</th>\n",
       "      <td>4</td>\n",
       "      <td>999 DD YY</td>\n",
       "    </tr>\n",
       "    <tr>\n",
       "      <th>4</th>\n",
       "      <td>5</td>\n",
       "      <td>888 AA ZZ</td>\n",
       "    </tr>\n",
       "  </tbody>\n",
       "</table>\n",
       "</div>"
      ],
      "text/plain": [
       "   restaurante_id    loc_ref\n",
       "0               1   99 CB CB\n",
       "1               2  777 CB CB\n",
       "2               3  555 EE XX\n",
       "3               4  999 DD YY\n",
       "4               5  888 AA ZZ"
      ]
     },
     "metadata": {},
     "output_type": "display_data"
    },
    {
     "name": "stdout",
     "output_type": "stream",
     "text": [
      "\n",
      "--- Tabela: Funcionarios ---\n"
     ]
    },
    {
     "name": "stderr",
     "output_type": "stream",
     "text": [
      "/tmp/ipykernel_224/1548913879.py:6: UserWarning: pandas only supports SQLAlchemy connectable (engine/connection) or database string URI or sqlite3 DBAPI2 connection. Other DBAPI2 objects are not tested. Please consider using SQLAlchemy.\n",
      "  display(pd.read_sql(\"SELECT * FROM Funcionarios;\", cnxn))\n"
     ]
    },
    {
     "data": {
      "text/html": [
       "<div>\n",
       "<style scoped>\n",
       "    .dataframe tbody tr th:only-of-type {\n",
       "        vertical-align: middle;\n",
       "    }\n",
       "\n",
       "    .dataframe tbody tr th {\n",
       "        vertical-align: top;\n",
       "    }\n",
       "\n",
       "    .dataframe thead th {\n",
       "        text-align: right;\n",
       "    }\n",
       "</style>\n",
       "<table border=\"1\" class=\"dataframe\">\n",
       "  <thead>\n",
       "    <tr style=\"text-align: right;\">\n",
       "      <th></th>\n",
       "      <th>funcionario_id</th>\n",
       "      <th>numero_funcionario</th>\n",
       "      <th>nome_completo</th>\n",
       "      <th>cargo</th>\n",
       "    </tr>\n",
       "  </thead>\n",
       "  <tbody>\n",
       "    <tr>\n",
       "      <th>0</th>\n",
       "      <td>1</td>\n",
       "      <td>55555</td>\n",
       "      <td>Funcionario 55555</td>\n",
       "      <td>Garçom</td>\n",
       "    </tr>\n",
       "    <tr>\n",
       "      <th>1</th>\n",
       "      <td>2</td>\n",
       "      <td>77777</td>\n",
       "      <td>Funcionario 77777</td>\n",
       "      <td>Garçom</td>\n",
       "    </tr>\n",
       "    <tr>\n",
       "      <th>2</th>\n",
       "      <td>3</td>\n",
       "      <td>99999</td>\n",
       "      <td>Funcionario 99999</td>\n",
       "      <td>Garçom</td>\n",
       "    </tr>\n",
       "    <tr>\n",
       "      <th>3</th>\n",
       "      <td>4</td>\n",
       "      <td>88888</td>\n",
       "      <td>Funcionario 88888</td>\n",
       "      <td>Garçom</td>\n",
       "    </tr>\n",
       "  </tbody>\n",
       "</table>\n",
       "</div>"
      ],
      "text/plain": [
       "   funcionario_id  numero_funcionario      nome_completo   cargo\n",
       "0               1               55555  Funcionario 55555  Garçom\n",
       "1               2               77777  Funcionario 77777  Garçom\n",
       "2               3               99999  Funcionario 99999  Garçom\n",
       "3               4               88888  Funcionario 88888  Garçom"
      ]
     },
     "metadata": {},
     "output_type": "display_data"
    }
   ],
   "source": [
    "# Consulta 2: Listar todos os restaurantes e funcionários cadastrados\n",
    "print(\"\\n--- Tabela: Restaurantes ---\")\n",
    "display(pd.read_sql(\"SELECT * FROM Restaurantes;\", cnxn))\n",
    "\n",
    "print(\"\\n--- Tabela: Funcionarios ---\")\n",
    "display(pd.read_sql(\"SELECT * FROM Funcionarios;\", cnxn))"
   ]
  },
  {
   "cell_type": "code",
   "execution_count": 33,
   "id": "37a0a608-a31a-4838-b448-86216a3b6ada",
   "metadata": {},
   "outputs": [
    {
     "name": "stdout",
     "output_type": "stream",
     "text": [
      "\n",
      "--- Análise: Contagem de pedidos por restaurante ---\n"
     ]
    },
    {
     "name": "stderr",
     "output_type": "stream",
     "text": [
      "/tmp/ipykernel_224/2395987233.py:18: UserWarning: pandas only supports SQLAlchemy connectable (engine/connection) or database string URI or sqlite3 DBAPI2 connection. Other DBAPI2 objects are not tested. Please consider using SQLAlchemy.\n",
      "  df_pedidos_por_restaurante = pd.read_sql(sql_query_join, cnxn)\n"
     ]
    },
    {
     "data": {
      "text/html": [
       "<div>\n",
       "<style scoped>\n",
       "    .dataframe tbody tr th:only-of-type {\n",
       "        vertical-align: middle;\n",
       "    }\n",
       "\n",
       "    .dataframe tbody tr th {\n",
       "        vertical-align: top;\n",
       "    }\n",
       "\n",
       "    .dataframe thead th {\n",
       "        text-align: right;\n",
       "    }\n",
       "</style>\n",
       "<table border=\"1\" class=\"dataframe\">\n",
       "  <thead>\n",
       "    <tr style=\"text-align: right;\">\n",
       "      <th></th>\n",
       "      <th>nome_restaurante</th>\n",
       "      <th>total_pedidos</th>\n",
       "    </tr>\n",
       "  </thead>\n",
       "  <tbody>\n",
       "    <tr>\n",
       "      <th>0</th>\n",
       "      <td>555 EE XX</td>\n",
       "      <td>1</td>\n",
       "    </tr>\n",
       "    <tr>\n",
       "      <th>1</th>\n",
       "      <td>777 CB CB</td>\n",
       "      <td>1</td>\n",
       "    </tr>\n",
       "    <tr>\n",
       "      <th>2</th>\n",
       "      <td>888 AA ZZ</td>\n",
       "      <td>1</td>\n",
       "    </tr>\n",
       "    <tr>\n",
       "      <th>3</th>\n",
       "      <td>99 CB CB</td>\n",
       "      <td>1</td>\n",
       "    </tr>\n",
       "    <tr>\n",
       "      <th>4</th>\n",
       "      <td>999 DD YY</td>\n",
       "      <td>1</td>\n",
       "    </tr>\n",
       "  </tbody>\n",
       "</table>\n",
       "</div>"
      ],
      "text/plain": [
       "  nome_restaurante  total_pedidos\n",
       "0        555 EE XX              1\n",
       "1        777 CB CB              1\n",
       "2        888 AA ZZ              1\n",
       "3         99 CB CB              1\n",
       "4        999 DD YY              1"
      ]
     },
     "metadata": {},
     "output_type": "display_data"
    }
   ],
   "source": [
    "# Consulta 3: Contar o número de pedidos por restaurante (JOIN)\n",
    "print(\"\\n--- Análise: Contagem de pedidos por restaurante ---\")\n",
    "\n",
    "sql_query_join = \"\"\"\n",
    "SELECT \n",
    "    r.loc_ref AS nome_restaurante,\n",
    "    COUNT(p.guest_check_id) AS total_pedidos\n",
    "FROM \n",
    "    Pedidos AS p\n",
    "JOIN \n",
    "    Restaurantes AS r ON p.restaurante_id_fk = r.restaurante_id\n",
    "GROUP BY \n",
    "    r.loc_ref\n",
    "ORDER BY \n",
    "    total_pedidos DESC;\n",
    "\"\"\"\n",
    "\n",
    "df_pedidos_por_restaurante = pd.read_sql(sql_query_join, cnxn)\n",
    "display(df_pedidos_por_restaurante)"
   ]
  },
  {
   "cell_type": "code",
   "execution_count": null,
   "id": "85c5f7ab-978e-40cd-a55a-f8dc2b1c8601",
   "metadata": {},
   "outputs": [],
   "source": [
    "# Consulta 4: Verificar os itens de menu e detalhes que foram carregados\n",
    "print(\"\\n--- Verificação: Detalhes dos Pedidos Carregados ---\")\n",
    "\n",
    "sql_query_details = \"\"\"\n",
    "SELECT \n",
    "    p.numero_pedido,\n",
    "    ld.numero_linha,\n",
    "    ld.tipo_detalhe,\n",
    "    dmi.numero_item_menu,\n",
    "    ld.total_liquido\n",
    "FROM \n",
    "    Linhas_Detalhe AS ld\n",
    "JOIN\n",
    "    Pedidos AS p ON ld.guest_check_id_fk = p.guest_check_id\n",
    "JOIN\n",
    "    Detalhe_ItemMenu AS dmi ON ld.id_detalhe_especifico = dmi.item_menu_detalhe_id\n",
    "WHERE\n",
    "    ld.tipo_detalhe = 'MENU_ITEM';\n",
    "\"\"\"\n",
    "df_detalhes = pd.read_sql(sql_query_details, cnxn)\n",
    "display(df_detalhes)"
   ]
  },
  {
   "cell_type": "markdown",
   "id": "c6154746-93a6-42d2-9ada-ba900b2dbed6",
   "metadata": {},
   "source": [
    "### ✍️ Sua Vez: Faça Suas Próprias Consultas!\n",
    "\n",
    "Sinta-se à vontade para usar a célula de código abaixo para escrever e executar suas próprias consultas SQL no Data Warehouse."
   ]
  },
  {
   "cell_type": "code",
   "execution_count": null,
   "id": "4832e0b3-8704-4cd0-82ab-5147662a94ee",
   "metadata": {},
   "outputs": [],
   "source": [
    "# Escreva sua consulta SQL aqui dentro das três aspas\n",
    "sua_query = \"\"\"\n",
    "SELECT * FROM Impostos_Pedidos;\n",
    "\"\"\"\n",
    "\n",
    "# Executa a consulta e exibe o resultado\n",
    "try:\n",
    "    df_resultado = pd.read_sql(sua_query, cnxn)\n",
    "    display(df_resultado)\n",
    "except Exception as e:\n",
    "    print(f\"Erro ao executar a consulta: {e}\")\n",
    "\n",
    "# Ao final de toda a exploração, é uma boa prática fechar a conexão.\n",
    "# cnxn.close()\n",
    "# print(\"\\nConexão com o banco de dados fechada.\")"
   ]
  }
 ],
 "metadata": {
  "kernelspec": {
   "display_name": "Python 3 (ipykernel)",
   "language": "python",
   "name": "python3"
  },
  "language_info": {
   "codemirror_mode": {
    "name": "ipython",
    "version": 3
   },
   "file_extension": ".py",
   "mimetype": "text/x-python",
   "name": "python",
   "nbconvert_exporter": "python",
   "pygments_lexer": "ipython3",
   "version": "3.10.18"
  }
 },
 "nbformat": 4,
 "nbformat_minor": 5
}
