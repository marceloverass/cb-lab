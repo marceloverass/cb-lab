{
 "cells": [
  {
   "cell_type": "markdown",
   "id": "57c0bacf-30a7-43f6-a4ef-b07ed8e06a9f",
   "metadata": {},
   "source": [
    "# Desafio 1: Processamento de Dados de ERP de Restaurante"
   ]
  },
  {
   "cell_type": "markdown",
   "id": "e2e88c3b-ab6a-4ab8-94d8-396ff43b859d",
   "metadata": {},
   "source": [
    "Autor: Marcelo Veras\n",
    "\n",
    "Data: 25/07/2025"
   ]
  },
  {
   "cell_type": "markdown",
   "id": "27e4d414-794a-4279-b822-6cd40da3fc78",
   "metadata": {},
   "source": [
    "# Introdução"
   ]
  },
  {
   "cell_type": "markdown",
   "id": "01dcb966-bc57-4119-9294-d99c7b014508",
   "metadata": {},
   "source": [
    "Este notebook documenta a solução para o primeiro Desafio de Engenharia de Dados do Laboratório de Tecnologia do Coco Bambu (CB Lab). O objetivo é processar um arquivo JSON de um ERP, modelar os dados para um banco de dados relacional e justificar a abordagem de design escolhida."
   ]
  },
  {
   "cell_type": "markdown",
   "id": "f6b5ce75-3d6c-4916-a94f-35bc86d09543",
   "metadata": {},
   "source": [
    "## 1. Descrição do Esquema JSON (ERP.json)"
   ]
  },
  {
   "cell_type": "markdown",
   "id": "173f177d-2de0-4b3c-91d8-b33137226d5c",
   "metadata": {},
   "source": [
    "### 1.1 O JSON fornecido possui um esquema hierárquico que representa transações de um ponto de venda. A estrutura principal é a seguinte:"
   ]
  },
  {
   "cell_type": "markdown",
   "id": "00712b11-9fae-4a20-907c-a5dc1570468c",
   "metadata": {},
   "source": [
    "#### Objeto Raiz: Contém metadados sobre a carga de dados.\n",
    "* curUTC (String): Timestamp em UTC de quando o dado foi gerado.\n",
    "\n",
    "* locRef (String): Uma referência ou ID da loja/localidade. \"99 CB CB\".\n",
    "\n",
    "* guestChecks (Array de Objetos): Uma lista contendo um ou mais pedidos.\n",
    "\n",
    "#### Objeto guestCheck (Pedido): Cada objeto na lista guestChecks representa um único pedido e contém:\n",
    "\n",
    "* Identificadores: guestCheckId (Number), chkNum (Number), empNum (Number), rvcNum (Number), etc.\n",
    "\n",
    "* Timestamps: Diversos campos de data/hora para abertura, fechamento e atualizações (opnBusDt, opnUTC, clsdUTC, etc.).\n",
    "\n",
    "* Valores Monetários: subTtl (Number), chkTtl (Number), dscTtl (Number, pode ser negativo), payTtl (Number).\n",
    "\n",
    "* Flags e Contadores: clsdFlag (Boolean), gstCnt (Number), numSrvcRd (Number).\n",
    "\n",
    "* taxes (Array de Objetos): Uma lista dos impostos aplicados ao pedido. Cada objeto de imposto contém taxNum, txblSlsTtl, taxCollTtl, etc.\n",
    "\n",
    "* detailLines (Array de Objetos): O coração do pedido, representando cada linha de item individual.\n",
    "\n",
    "#### Objeto detailLine (Linha de Detalhe): Cada objeto na lista detailLines representa um evento ou item no pedido.\n",
    "\n",
    "* Identificadores e Metadados: guestCheckLineItemId (Number), lineNum (Number), detailUTC (String), etc.\n",
    "\n",
    "* Valores: dspTtl (Number), dspQty (Number).\n",
    "\n",
    "* Objeto de Conteúdo Específico: Este é o campo polimórfico. No exemplo, ele contém:\n",
    "\n",
    "* MenuItem (Objeto): Detalhes de um item do cardápio, como miNum (ID do item), modFlag (se foi modificado), inclTax (imposto incluso), etc.\n",
    "\n",
    "* Conforme o enunciado, aqui também poderiam estar objetos como discount, serviceCharge, tenderMedia ou errorCode."
   ]
  },
  {
   "cell_type": "markdown",
   "id": "b6ff3bc3-5684-4b94-9d9d-d86c07f4a1ae",
   "metadata": {},
   "source": [
    "### 1.2 Carregamento e Análise do Esquema JSON"
   ]
  },
  {
   "cell_type": "markdown",
   "id": "461bf88f-eb15-4f8e-9763-c3a0dd3f76f4",
   "metadata": {},
   "source": [
    "Nesta seção, o arquivo ERP.json é carregado e sua estrutura é explorada para entender o esquema dos dados."
   ]
  },
  {
   "cell_type": "code",
   "execution_count": 3,
   "id": "9edea88b-dec1-4fc8-9bf8-963f244e1ec3",
   "metadata": {},
   "outputs": [
    {
     "name": "stdout",
     "output_type": "stream",
     "text": [
      "Estrutura principal do JSON:\n",
      "dict_keys(['curUTC', 'locRef', 'guestChecks'])\n",
      "\n",
      "Estrutura de 'guestChecks':\n",
      "dict_keys(['guestCheckId', 'chkNum', 'opnBusDt', 'opnUTC', 'opnLcl', 'clsdBusDt', 'clsdUTC', 'clsdLcl', 'lastTransUTC', 'lastTransLcl', 'lastUpdatedUTC', 'lastUpdatedLcl', 'clsdFlag', 'gstCnt', 'subTtl', 'nonTxblSlsTtl', 'chkTtl', 'dscTtl', 'payTtl', 'balDueTtl', 'rvcNum', 'otNum', 'ocNum', 'tblNum', 'tblName', 'empNum', 'numSrvcRd', 'numChkPrntd', 'taxes', 'detailLines'])\n",
      "\n",
      "Estrutura de 'detailLines':\n",
      "dict_keys(['guestCheckLineItemId', 'rvcNum', 'dtlOtNum', 'dtlOcNum', 'lineNum', 'dtlId', 'detailUTC', 'detailLcl', 'lastUpdateUTC', 'lastUpdateLcl', 'busDt', 'wsNum', 'dspTtl', 'dspQty', 'aggTtl', 'aggQty', 'chkEmpId', 'chkEmpNum', 'svcRndNum', 'seatNum', 'menuItem'])\n"
     ]
    }
   ],
   "source": [
    "import json\n",
    "import pandas as pd\n",
    "\n",
    "file_path = '../data/ERP.json'\n",
    "\n",
    "with open(file_path, 'r') as f:\n",
    "    data = json.load(f)\n",
    "\n",
    "print(\"Estrutura principal do JSON:\")\n",
    "print(data.keys())\n",
    "\n",
    "print(\"\\nEstrutura de 'guestChecks':\")\n",
    "guest_check_exemplo = data['guestChecks'][0]\n",
    "print(guest_check_exemplo.keys())\n",
    "\n",
    "print(\"\\nEstrutura de 'detailLines':\")\n",
    "detail_line_exemplo = guest_check_exemplo['detailLines'][0]\n",
    "print(detail_line_exemplo.keys())\n",
    "\n"
   ]
  },
  {
   "cell_type": "markdown",
   "id": "6516860e-a0fc-4606-ac43-5c473b487cff",
   "metadata": {},
   "source": [
    "######"
   ]
  },
  {
   "cell_type": "markdown",
   "id": "00c2e333-a1d7-462b-92eb-4b91621ca1fa",
   "metadata": {},
   "source": [
    "##### Com base na exploração acima, o esquema foi documentado detalhadamente na resposta do desafio. A análise confirma a natureza hierárquica e a presença de listas aninhadas (guestChecks, taxes, detailLines), sendo detailLines um campo polimórfico."
   ]
  }
 ],
 "metadata": {
  "kernelspec": {
   "display_name": "Python 3 (ipykernel)",
   "language": "python",
   "name": "python3"
  },
  "language_info": {
   "codemirror_mode": {
    "name": "ipython",
    "version": 3
   },
   "file_extension": ".py",
   "mimetype": "text/x-python",
   "name": "python",
   "nbconvert_exporter": "python",
   "pygments_lexer": "ipython3",
   "version": "3.10.18"
  }
 },
 "nbformat": 4,
 "nbformat_minor": 5
}
