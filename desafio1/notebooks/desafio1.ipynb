{
 "cells": [
  {
   "cell_type": "markdown",
   "id": "57c0bacf-30a7-43f6-a4ef-b07ed8e06a9f",
   "metadata": {},
   "source": [
    "# Desafio 1: Processamento de Dados de ERP de Restaurante"
   ]
  },
  {
   "cell_type": "markdown",
   "id": "e2e88c3b-ab6a-4ab8-94d8-396ff43b859d",
   "metadata": {},
   "source": [
    "Autor: Marcelo Veras\n",
    "\n",
    "Data: 25/07/2025"
   ]
  },
  {
   "cell_type": "markdown",
   "id": "27e4d414-794a-4279-b822-6cd40da3fc78",
   "metadata": {},
   "source": [
    "# Introdução"
   ]
  },
  {
   "cell_type": "markdown",
   "id": "01dcb966-bc57-4119-9294-d99c7b014508",
   "metadata": {},
   "source": [
    "Este notebook documenta a solução para o primeiro Desafio de Engenharia de Dados do Laboratório de Tecnologia do Coco Bambu (CB Lab). O objetivo é processar um arquivo JSON de um ERP, modelar os dados para um banco de dados relacional e justificar a abordagem de design escolhida."
   ]
  },
  {
   "cell_type": "markdown",
   "id": "f6b5ce75-3d6c-4916-a94f-35bc86d09543",
   "metadata": {},
   "source": [
    "## 1. Descrição do Esquema JSON (ERP.json)"
   ]
  },
  {
   "cell_type": "markdown",
   "id": "173f177d-2de0-4b3c-91d8-b33137226d5c",
   "metadata": {},
   "source": [
    "### 1.1. O JSON fornecido possui um esquema hierárquico que representa transações de um ponto de venda. A estrutura principal é a seguinte:"
   ]
  },
  {
   "cell_type": "markdown",
   "id": "00712b11-9fae-4a20-907c-a5dc1570468c",
   "metadata": {},
   "source": [
    "#### Objeto Raiz: Contém metadados sobre a carga de dados.\n",
    "* curUTC (String): Timestamp em UTC de quando o dado foi gerado.\n",
    "\n",
    "* locRef (String): Uma referência ou ID da loja/localidade. \"99 CB CB\".\n",
    "\n",
    "* guestChecks (Array de Objetos): Uma lista contendo um ou mais pedidos.\n",
    "\n",
    "#### Objeto guestCheck (Pedido): Cada objeto na lista guestChecks representa um único pedido e contém:\n",
    "\n",
    "* Identificadores: guestCheckId (Number), chkNum (Number), empNum (Number), rvcNum (Number), etc.\n",
    "\n",
    "* Timestamps: Diversos campos de data/hora para abertura, fechamento e atualizações (opnBusDt, opnUTC, clsdUTC, etc.).\n",
    "\n",
    "* Valores Monetários: subTtl (Number), chkTtl (Number), dscTtl (Number, pode ser negativo), payTtl (Number).\n",
    "\n",
    "* Flags e Contadores: clsdFlag (Boolean), gstCnt (Number), numSrvcRd (Number).\n",
    "\n",
    "* taxes (Array de Objetos): Uma lista dos impostos aplicados ao pedido. Cada objeto de imposto contém taxNum, txblSlsTtl, taxCollTtl, etc.\n",
    "\n",
    "* detailLines (Array de Objetos): O coração do pedido, representando cada linha de item individual.\n",
    "\n",
    "#### Objeto detailLine (Linha de Detalhe): Cada objeto na lista detailLines representa um evento ou item no pedido.\n",
    "\n",
    "* Identificadores e Metadados: guestCheckLineItemId (Number), lineNum (Number), detailUTC (String), etc.\n",
    "\n",
    "* Valores: dspTtl (Number), dspQty (Number).\n",
    "\n",
    "* Objeto de Conteúdo Específico: Este é o campo polimórfico. No exemplo, ele contém:\n",
    "\n",
    "* MenuItem (Objeto): Detalhes de um item do cardápio, como miNum (ID do item), modFlag (se foi modificado), inclTax (imposto incluso), etc.\n",
    "\n",
    "* Conforme o enunciado, aqui também poderiam estar objetos como discount, serviceCharge, tenderMedia ou errorCode."
   ]
  },
  {
   "cell_type": "markdown",
   "id": "b6ff3bc3-5684-4b94-9d9d-d86c07f4a1ae",
   "metadata": {},
   "source": [
    "### 1.2. Carregamento e Análise do Esquema JSON"
   ]
  },
  {
   "cell_type": "markdown",
   "id": "461bf88f-eb15-4f8e-9763-c3a0dd3f76f4",
   "metadata": {},
   "source": [
    "Nesta seção, o arquivo ERP.json é carregado e sua estrutura é explorada para entender o esquema dos dados."
   ]
  },
  {
   "cell_type": "code",
   "execution_count": 3,
   "id": "9edea88b-dec1-4fc8-9bf8-963f244e1ec3",
   "metadata": {
    "scrolled": true
   },
   "outputs": [
    {
     "name": "stdout",
     "output_type": "stream",
     "text": [
      "Estrutura principal do JSON:\n",
      "dict_keys(['curUTC', 'locRef', 'guestChecks'])\n",
      "\n",
      "Estrutura de 'guestChecks':\n",
      "dict_keys(['guestCheckId', 'chkNum', 'opnBusDt', 'opnUTC', 'opnLcl', 'clsdBusDt', 'clsdUTC', 'clsdLcl', 'lastTransUTC', 'lastTransLcl', 'lastUpdatedUTC', 'lastUpdatedLcl', 'clsdFlag', 'gstCnt', 'subTtl', 'nonTxblSlsTtl', 'chkTtl', 'dscTtl', 'payTtl', 'balDueTtl', 'rvcNum', 'otNum', 'ocNum', 'tblNum', 'tblName', 'empNum', 'numSrvcRd', 'numChkPrntd', 'taxes', 'detailLines'])\n",
      "\n",
      "Estrutura de 'detailLines':\n",
      "dict_keys(['guestCheckLineItemId', 'rvcNum', 'dtlOtNum', 'dtlOcNum', 'lineNum', 'dtlId', 'detailUTC', 'detailLcl', 'lastUpdateUTC', 'lastUpdateLcl', 'busDt', 'wsNum', 'dspTtl', 'dspQty', 'aggTtl', 'aggQty', 'chkEmpId', 'chkEmpNum', 'svcRndNum', 'seatNum', 'menuItem'])\n"
     ]
    }
   ],
   "source": [
    "import json\n",
    "import pandas as pd\n",
    "\n",
    "file_path = '../data/ERP.json'\n",
    "\n",
    "with open(file_path, 'r') as f:\n",
    "    data = json.load(f)\n",
    "\n",
    "print(\"Estrutura principal do JSON:\")\n",
    "print(data.keys())\n",
    "\n",
    "print(\"\\nEstrutura de 'guestChecks':\")\n",
    "guest_check_exemplo = data['guestChecks'][0]\n",
    "print(guest_check_exemplo.keys())\n",
    "\n",
    "print(\"\\nEstrutura de 'detailLines':\")\n",
    "detail_line_exemplo = guest_check_exemplo['detailLines'][0]\n",
    "print(detail_line_exemplo.keys())\n",
    "\n"
   ]
  },
  {
   "cell_type": "markdown",
   "id": "6516860e-a0fc-4606-ac43-5c473b487cff",
   "metadata": {},
   "source": [
    "######"
   ]
  },
  {
   "cell_type": "markdown",
   "id": "00c2e333-a1d7-462b-92eb-4b91621ca1fa",
   "metadata": {},
   "source": [
    "##### Com base na exploração acima, o esquema foi documentado detalhadamente na resposta do desafio. A análise confirma a natureza hierárquica e a presença de listas aninhadas (guestChecks, taxes, detailLines), sendo detailLines um campo polimórfico."
   ]
  },
  {
   "cell_type": "markdown",
   "id": "8d307142-04b2-4f35-b91e-95bbd3c082e2",
   "metadata": {},
   "source": [
    "## 2. JSON para Banco de Dados Relacional"
   ]
  },
  {
   "cell_type": "markdown",
   "id": "658bf8c1-c4be-4cd6-b31b-ebd5af5f1255",
   "metadata": {},
   "source": [
    "### 2.1. Modelagem Conceitual (MER)"
   ]
  },
  {
   "cell_type": "markdown",
   "id": "5e4b5d6f-91fe-4ea6-9f05-8b69d0ec826f",
   "metadata": {},
   "source": [
    "A primeira etapa no design de um banco de dados robusto é a **Modelagem Conceitual**. O objetivo desta fase é criar um modelo de alto nível que represente as principais entidades de negócio e como elas se relacionam, sem se preocupar com detalhes técnicos de implementação. A ferramenta utilizada para isso foi o **Modelo Entidade-Relacionamento (MER)**, criado com [Lucidchart](https://www.lucidchart.com/pages/pt/landing?km_CPC_CampaignId=1500131479&km_CPC_AdGroupID=57888677676&km_CPC_Keyword=%2Blucid%20%2Bchart&km_CPC_MatchType=b&km_CPC_ExtensionID=&km_CPC_Network=g&km_CPC_AdPosition=&km_CPC_Creative=286634000551&km_CPC_TargetID=kwd-311590324798&km_CPC_Country=9219142&km_CPC_Device=c&km_CPC_placement=&km_CPC_target=&gad_campaignid=1500131479)."
   ]
  },
  {
   "cell_type": "code",
   "execution_count": 8,
   "id": "abe52fc9-757b-4647-8309-0c13d32b9eb3",
   "metadata": {},
   "outputs": [
    {
     "data": {
      "image/png": "[encoded data removed]",
      "text/plain": [
       "<IPython.core.display.Image object>"
      ]
     },
     "execution_count": 8,
     "metadata": {
      "image/png": {
       "width": 650
      }
     },
     "output_type": "execute_result"
    }
   ],
   "source": [
    "from IPython.display import Image\n",
    "\n",
    "img = '../assets/MER.png'\n",
    "Image(filename=img, width=650)"
   ]
  },
  {
   "cell_type": "markdown",
   "id": "12fbb4a9-0a81-4c15-a98e-6206f6c0d2bc",
   "metadata": {},
   "source": [
    "#### Entidades"
   ]
  },
  {
   "cell_type": "markdown",
   "id": "c3e10c5a-3c4d-4ebb-ab37-9befd23daddf",
   "metadata": {},
   "source": [
    "As seguintes entidades foram identificadas como os pilares do negócio a partir da análise dos dados do ERP:"
   ]
  },
  {
   "cell_type": "markdown",
   "id": "dfa573c8-5807-4cb0-a914-f35e05cf804d",
   "metadata": {},
   "source": [
    "* **Restaurante:** Representa a unidade da cadeia onde a transação ocorre. (objeto raiz)\n",
    "* **Funcionário:** A pessoa que atende e é responsável pelo pedido (entidade criada a partir do atributo `empNum` do objeto `guestChecks` por fins de normalização).\n",
    "* **Pedido:** A entidade central que representa a transação de venda (`guestCheck`).\n",
    "* **Imposto:** As taxas fiscais que são aplicadas sobre um pedido (`taxes`).\n",
    "* **Detalhe do Pedido:** Uma entidade genérica que representa cada linha ou evento individual dentro de um pedido (`detailLines`)."
   ]
  },
  {
   "cell_type": "markdown",
   "id": "7511dc4b-5011-4270-8f9d-a0f722ca3171",
   "metadata": {},
   "source": [
    "#### Generalização e Especialização"
   ]
  },
  {
   "cell_type": "markdown",
   "id": "79ba42fd-04db-47f9-bd87-b2783ef6c0ab",
   "metadata": {},
   "source": [
    "A entidade `Detalhe do Pedido` ou `detailLines` é uma **superclasse (ou entidade genérica)**. Ela se especializa nos seguintes subtipos, que representam os diferentes tipos de eventos que podem ocorrer em um pedido:"
   ]
  },
  {
   "cell_type": "markdown",
   "id": "4f35091a-ecb3-4218-945f-980613d3e5da",
   "metadata": {},
   "source": [
    "* **Item de Menu:** Um item do cardápio que foi vendido.\n",
    "* **Desconto:** Um desconto promocional aplicado.\n",
    "* **Taxa de Serviço:** Uma taxa adicional, como gorjeta ou couvert.\n",
    "* **Forma de Pagamento:** O meio utilizado para pagar a conta.\n",
    "* **Erro:** Um registro de erro ou falha ocorrida durante o processo."
   ]
  },
  {
   "cell_type": "markdown",
   "id": "979a388f-4610-4a10-8ce0-1cf8e72cd1a7",
   "metadata": {},
   "source": [
    "#### Relacionamentos e Cardinalidade"
   ]
  },
  {
   "cell_type": "markdown",
   "id": "c52f5e9d-e478-40ea-8afd-7f5304c53a0a",
   "metadata": {},
   "source": [
    "Os relacionamentos definem como as entidades interagem, e a cardinalidade define as regras de negócio dessa interação:"
   ]
  },
  {
   "cell_type": "markdown",
   "id": "5ec8299b-c0f6-465c-8005-d5ed52f61f5f",
   "metadata": {},
   "source": [
    "* Um **Restaurante** `realiza` um ou muitos **Pedidos** `(1:N)`.\n",
    "* Um **Funcionário** `atende` zero ou muitos **Pedidos** `(0:N)`.\n",
    "* Um **Pedido** `contém` zero ou muitos **Impostos** `(0:N)`.\n",
    "* Um **Pedido** `contém` um ou muitos **Detalhes do Pedido** `(1:N)`."
   ]
  },
  {
   "cell_type": "code",
   "execution_count": null,
   "id": "ee83522b-a064-4f3b-a274-f019f4f7c951",
   "metadata": {},
   "outputs": [],
   "source": []
  }
 ],
 "metadata": {
  "kernelspec": {
   "display_name": "Python 3 (ipykernel)",
   "language": "python",
   "name": "python3"
  },
  "language_info": {
   "codemirror_mode": {
    "name": "ipython",
    "version": 3
   },
   "file_extension": ".py",
   "mimetype": "text/x-python",
   "name": "python",
   "nbconvert_exporter": "python",
   "pygments_lexer": "ipython3",
   "version": "3.10.18"
  }
 },
 "nbformat": 4,
 "nbformat_minor": 5
}
